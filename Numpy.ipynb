{
 "cells": [
  {
   "cell_type": "code",
   "execution_count": 3,
   "id": "161a6ee6-fc16-4676-b176-8ba0a8a8175f",
   "metadata": {},
   "outputs": [
    {
     "name": "stdout",
     "output_type": "stream",
     "text": [
      "1.26.4\n"
     ]
    }
   ],
   "source": [
    "import numpy as np\n",
    "print(np.__version__)"
   ]
  },
  {
   "cell_type": "code",
   "execution_count": 7,
   "id": "a0c17b19-0610-406a-b2bd-fa4cdda4ec1a",
   "metadata": {},
   "outputs": [
    {
     "name": "stdout",
     "output_type": "stream",
     "text": [
      "<class 'numpy.ndarray'>\n",
      "[1 2 3 4 5]\n"
     ]
    }
   ],
   "source": [
    "a = np.array([1,2,3,4,5])\n",
    "print(type(a))\n",
    "print(a)"
   ]
  },
  {
   "cell_type": "code",
   "execution_count": 7,
   "id": "b4a722da-5153-4946-a98d-79585b39ce51",
   "metadata": {},
   "outputs": [
    {
     "data": {
      "text/plain": [
       "'1.26.4'"
      ]
     },
     "execution_count": 7,
     "metadata": {},
     "output_type": "execute_result"
    }
   ],
   "source": [
    "np.__version__"
   ]
  },
  {
   "cell_type": "code",
   "execution_count": 11,
   "id": "32849d97-6ed3-4ea2-b027-c8eafebae4c0",
   "metadata": {},
   "outputs": [
    {
     "data": {
      "text/plain": [
       "'1.26.4'"
      ]
     },
     "execution_count": 11,
     "metadata": {},
     "output_type": "execute_result"
    }
   ],
   "source": [
    "import numpy\n",
    "numpy.__version__"
   ]
  },
  {
   "cell_type": "code",
   "execution_count": null,
   "id": "ee491ead-b90a-4829-bbd8-b376b7bc50b1",
   "metadata": {},
   "outputs": [],
   "source": [
    "np.array"
   ]
  },
  {
   "cell_type": "code",
   "execution_count": 5,
   "id": "daf5ad99-8c0c-48ab-9022-c0e34e9f1353",
   "metadata": {},
   "outputs": [],
   "source": [
    "a = np.array([1,2,3,4,5], dtype='int32')"
   ]
  },
  {
   "cell_type": "code",
   "execution_count": 7,
   "id": "1575c530-7895-486c-99e9-4a6c0d21886e",
   "metadata": {},
   "outputs": [
    {
     "data": {
      "text/plain": [
       "numpy.ndarray"
      ]
     },
     "execution_count": 7,
     "metadata": {},
     "output_type": "execute_result"
    }
   ],
   "source": [
    "type(a)"
   ]
  },
  {
   "cell_type": "code",
   "execution_count": 17,
   "id": "1eaae51c-3499-40e1-830b-abdf80f42caa",
   "metadata": {},
   "outputs": [
    {
     "name": "stdout",
     "output_type": "stream",
     "text": [
      "[1 2 3 4 5] <class 'numpy.ndarray'>\n"
     ]
    }
   ],
   "source": [
    "tuple_1 = (1,2,3,4,5)\n",
    "b = np.array(tuple_1)\n",
    "print(b, type(b))"
   ]
  },
  {
   "cell_type": "code",
   "execution_count": 19,
   "id": "01065040-f0a4-4d23-9761-33b20c247f08",
   "metadata": {},
   "outputs": [
    {
     "name": "stdout",
     "output_type": "stream",
     "text": [
      "[1. 2. 3. 4. 5.] <class 'numpy.ndarray'>\n"
     ]
    }
   ],
   "source": [
    "tuple_1 = (1,2,3,4,5)\n",
    "c = np.array(tuple_1, dtype=float)\n",
    "print(c, type(c))"
   ]
  },
  {
   "cell_type": "code",
   "execution_count": 89,
   "id": "f2f743b1-cfa1-453b-ac90-c83e400ab552",
   "metadata": {},
   "outputs": [
    {
     "name": "stdout",
     "output_type": "stream",
     "text": [
      "<U11\n",
      "d is a 2-D object\n",
      "The dimension of d is: (3, 5)\n",
      "Here is what d looks like: [['1' '2' '3' '4' '5']\n",
      " ['6' '7' '8' '9' '10']\n",
      " ['a' 'b' 'c' 'd' 'e']]\n",
      "d has: 15 elements\n",
      "d occupies 660 bytes of memory\n"
     ]
    }
   ],
   "source": [
    "d = np.array([[1,2,3,4,5],[6,7,8,9,10],['a','b','c','d','e']])\n",
    "print(d.dtype)\n",
    "print(\"d is a\", str(d.ndim)+\"-D object\") #use ndim to get the dimension of an object\n",
    "print(\"The dimension of d is:\", d.shape) #use shape to get the dimensions of an numpy array object\n",
    "print(\"Here is what d looks like:\", d)\n",
    "#print(\"The size of d is:\", d.itemsize) ##Not sure where to use this yet\n",
    "print(\"d has:\", d.size, \"elements\") #use size to get the total number of elements in an numpy array object\n",
    "print(\"d occupies\",d.nbytes, \"bytes of memory\") #use nbytes to calculate memory occupied by an numpty array object"
   ]
  },
  {
   "cell_type": "code",
   "execution_count": 91,
   "id": "5cdd728e-8558-4972-b3a1-b17d91de4122",
   "metadata": {},
   "outputs": [
    {
     "data": {
      "text/plain": [
       "array([1, 2, 3, 4, 5])"
      ]
     },
     "execution_count": 91,
     "metadata": {},
     "output_type": "execute_result"
    }
   ],
   "source": [
    "a"
   ]
  },
  {
   "cell_type": "code",
   "execution_count": 85,
   "id": "30dd48be-4fce-4146-9cbf-bf95e3cace2b",
   "metadata": {},
   "outputs": [
    {
     "data": {
      "text/plain": [
       "4"
      ]
     },
     "execution_count": 85,
     "metadata": {},
     "output_type": "execute_result"
    }
   ],
   "source": [
    "a.itemsize"
   ]
  },
  {
   "cell_type": "code",
   "execution_count": 47,
   "id": "3ef6b07b-a134-4502-87bd-78923e1fc4ee",
   "metadata": {},
   "outputs": [
    {
     "data": {
      "text/plain": [
       "array([[ 1,  2,  3,  4,  5],\n",
       "       [ 6,  7,  8,  9, 10],\n",
       "       [11, 12, 13, 14, 15]])"
      ]
     },
     "execution_count": 47,
     "metadata": {},
     "output_type": "execute_result"
    }
   ],
   "source": []
  },
  {
   "cell_type": "code",
   "execution_count": 93,
   "id": "b7cdb4ca-e30e-4dda-a25d-abe0c86f4348",
   "metadata": {},
   "outputs": [
    {
     "data": {
      "text/plain": [
       "array([['1', '2', '3', '4', '5'],\n",
       "       ['6', '7', '8', '9', '10'],\n",
       "       ['a', 'b', 'c', 'd', 'e']], dtype='<U11')"
      ]
     },
     "execution_count": 93,
     "metadata": {},
     "output_type": "execute_result"
    }
   ],
   "source": [
    "d"
   ]
  },
  {
   "cell_type": "code",
   "execution_count": 95,
   "id": "2ff434b7-916a-4e51-bd69-41d4ef1e77c3",
   "metadata": {},
   "outputs": [
    {
     "data": {
      "text/plain": [
       "'2'"
      ]
     },
     "execution_count": 95,
     "metadata": {},
     "output_type": "execute_result"
    }
   ],
   "source": [
    "d[0,1]"
   ]
  },
  {
   "cell_type": "code",
   "execution_count": 97,
   "id": "ffa8a2fd-22c2-40fb-8f47-06b1b68797a0",
   "metadata": {},
   "outputs": [
    {
     "data": {
      "text/plain": [
       "'10'"
      ]
     },
     "execution_count": 97,
     "metadata": {},
     "output_type": "execute_result"
    }
   ],
   "source": [
    "d[1,4]"
   ]
  },
  {
   "cell_type": "code",
   "execution_count": 99,
   "id": "0c361a0f-70cc-4806-add4-2bb9a6ef58a2",
   "metadata": {},
   "outputs": [
    {
     "data": {
      "text/plain": [
       "'d'"
      ]
     },
     "execution_count": 99,
     "metadata": {},
     "output_type": "execute_result"
    }
   ],
   "source": [
    "d[2,3]"
   ]
  },
  {
   "cell_type": "code",
   "execution_count": 101,
   "id": "996c08a4-19ee-45df-856e-5d3c6ba55cfb",
   "metadata": {},
   "outputs": [
    {
     "data": {
      "text/plain": [
       "array(['6', '7', '8', '9', '10'], dtype='<U11')"
      ]
     },
     "execution_count": 101,
     "metadata": {},
     "output_type": "execute_result"
    }
   ],
   "source": [
    "d[1,]"
   ]
  },
  {
   "cell_type": "code",
   "execution_count": 105,
   "id": "db44ed06-0888-4540-b7df-49b39b3758d0",
   "metadata": {},
   "outputs": [
    {
     "data": {
      "text/plain": [
       "array(['6', '7', '8', '9', '10'], dtype='<U11')"
      ]
     },
     "execution_count": 105,
     "metadata": {},
     "output_type": "execute_result"
    }
   ],
   "source": [
    "d[1,:]"
   ]
  },
  {
   "cell_type": "code",
   "execution_count": 111,
   "id": "cd1a746b-db96-43fb-a243-c72f73a4cb05",
   "metadata": {},
   "outputs": [
    {
     "data": {
      "text/plain": [
       "array(['2', '7', 'b'], dtype='<U11')"
      ]
     },
     "execution_count": 111,
     "metadata": {},
     "output_type": "execute_result"
    }
   ],
   "source": [
    "d[:,1]"
   ]
  },
  {
   "cell_type": "code",
   "execution_count": 109,
   "id": "ab62f540-9cf6-4c83-9c8a-e0fabe42a1cc",
   "metadata": {},
   "outputs": [
    {
     "data": {
      "text/plain": [
       "'7'"
      ]
     },
     "execution_count": 109,
     "metadata": {},
     "output_type": "execute_result"
    }
   ],
   "source": [
    "d[1,1]"
   ]
  },
  {
   "cell_type": "code",
   "execution_count": 113,
   "id": "a82f157e-948d-4d8b-b072-d1095c494348",
   "metadata": {},
   "outputs": [
    {
     "data": {
      "text/plain": [
       "array([['1', '2', '3', '4', '5'],\n",
       "       ['6', '7', '8', '9', '10'],\n",
       "       ['a', 'b', 'c', 'd', 'e']], dtype='<U11')"
      ]
     },
     "execution_count": 113,
     "metadata": {},
     "output_type": "execute_result"
    }
   ],
   "source": [
    "d"
   ]
  },
  {
   "cell_type": "code",
   "execution_count": 115,
   "id": "a092b6d2-b7d9-40fc-bcac-cbceb5a010c9",
   "metadata": {},
   "outputs": [
    {
     "data": {
      "text/plain": [
       "'5'"
      ]
     },
     "execution_count": 115,
     "metadata": {},
     "output_type": "execute_result"
    }
   ],
   "source": [
    "d[0,-1]"
   ]
  },
  {
   "cell_type": "code",
   "execution_count": 117,
   "id": "17daf371-0af8-47a3-a986-7e243ba91bcb",
   "metadata": {},
   "outputs": [
    {
     "data": {
      "text/plain": [
       "array(['2', '3', '4'], dtype='<U11')"
      ]
     },
     "execution_count": 117,
     "metadata": {},
     "output_type": "execute_result"
    }
   ],
   "source": [
    "d[0,1:-1]"
   ]
  },
  {
   "cell_type": "code",
   "execution_count": 119,
   "id": "a0f00a2f-1b5e-45cc-a764-12ef17987c76",
   "metadata": {},
   "outputs": [
    {
     "data": {
      "text/plain": [
       "array(['3', '4'], dtype='<U11')"
      ]
     },
     "execution_count": 119,
     "metadata": {},
     "output_type": "execute_result"
    }
   ],
   "source": [
    "d[0,2:-1]"
   ]
  },
  {
   "cell_type": "code",
   "execution_count": 123,
   "id": "a371a238-173d-4358-9fc0-b1408c13497a",
   "metadata": {},
   "outputs": [
    {
     "data": {
      "text/plain": [
       "array(['2', '4'], dtype='<U11')"
      ]
     },
     "execution_count": 123,
     "metadata": {},
     "output_type": "execute_result"
    }
   ],
   "source": [
    "d[0,1:-1:2]"
   ]
  },
  {
   "cell_type": "code",
   "execution_count": 125,
   "id": "e96a7c97-ac89-4c60-ab45-308dca5388bf",
   "metadata": {},
   "outputs": [
    {
     "data": {
      "text/plain": [
       "array([['1', '2', '3'],\n",
       "       ['6', '7', '8'],\n",
       "       ['a', 'b', 'c']], dtype='<U11')"
      ]
     },
     "execution_count": 125,
     "metadata": {},
     "output_type": "execute_result"
    }
   ],
   "source": [
    "d[:,0:-2]"
   ]
  },
  {
   "cell_type": "code",
   "execution_count": 129,
   "id": "d4ac1883-0abc-4657-95c6-56a3d7f69904",
   "metadata": {},
   "outputs": [
    {
     "name": "stdout",
     "output_type": "stream",
     "text": [
      "[20, 25, 30]\n"
     ]
    }
   ],
   "source": [
    "n = [5, 10, 15, 20, 25, 30]\n",
    "fn = list(filter(lambda x: x > 15, n))\n",
    "print(fn)"
   ]
  },
  {
   "cell_type": "code",
   "execution_count": 131,
   "id": "b3bd0e21-eec8-4b3f-b5c1-6f28bbe72500",
   "metadata": {},
   "outputs": [
    {
     "data": {
      "text/plain": [
       "array([['1', '2', '3', '4', '5'],\n",
       "       ['6', '7', '8', '9', '10'],\n",
       "       ['a', 'b', 'c', 'd', 'e']], dtype='<U11')"
      ]
     },
     "execution_count": 131,
     "metadata": {},
     "output_type": "execute_result"
    }
   ],
   "source": [
    "d"
   ]
  },
  {
   "cell_type": "code",
   "execution_count": 135,
   "id": "caaf6fb4-f72a-4e59-8dca-67f8433893a9",
   "metadata": {},
   "outputs": [],
   "source": [
    "d[0,:] = 555"
   ]
  },
  {
   "cell_type": "code",
   "execution_count": 137,
   "id": "d23dae44-ac13-47b5-97d3-5cbbd55cdc86",
   "metadata": {},
   "outputs": [
    {
     "data": {
      "text/plain": [
       "array([['555', '555', '555', '555', '555'],\n",
       "       ['6', '7', '8', '9', '10'],\n",
       "       ['a', 'b', 'c', 'd', 'e']], dtype='<U11')"
      ]
     },
     "execution_count": 137,
     "metadata": {},
     "output_type": "execute_result"
    }
   ],
   "source": [
    "d"
   ]
  },
  {
   "cell_type": "code",
   "execution_count": 169,
   "id": "0aefb3c4-037e-4bb6-a894-891d827d8f51",
   "metadata": {},
   "outputs": [
    {
     "name": "stdout",
     "output_type": "stream",
     "text": [
      "e is a 3-D object\n",
      "[[[1 2]\n",
      "  [3 4]]\n",
      "\n",
      " [[5 6]\n",
      "  [7 8]]]\n",
      "(2, 2, 2)\n"
     ]
    }
   ],
   "source": [
    "e = np.array([[[1,2],[3,4]],[[5,6],[7,8]]])\n",
    "print(\"e is a\", str(e.ndim)+\"-D object\")\n",
    "print(e)\n",
    "print(e.shape)"
   ]
  },
  {
   "cell_type": "code",
   "execution_count": 185,
   "id": "9c93a69a-3beb-4b9b-b1e0-856c0f61faf5",
   "metadata": {},
   "outputs": [
    {
     "data": {
      "text/plain": [
       "array([[1, 2],\n",
       "       [3, 4]])"
      ]
     },
     "execution_count": 185,
     "metadata": {},
     "output_type": "execute_result"
    }
   ],
   "source": [
    "e[0]"
   ]
  },
  {
   "cell_type": "code",
   "execution_count": 173,
   "id": "11e1e12b-9b60-4ef4-8060-c794808877a9",
   "metadata": {},
   "outputs": [
    {
     "data": {
      "text/plain": [
       "array([[5, 6],\n",
       "       [7, 8]])"
      ]
     },
     "execution_count": 173,
     "metadata": {},
     "output_type": "execute_result"
    }
   ],
   "source": [
    "e[1]"
   ]
  },
  {
   "cell_type": "code",
   "execution_count": 187,
   "id": "68caa1ae-5c23-443a-8504-8be7d2e9e8a0",
   "metadata": {},
   "outputs": [
    {
     "data": {
      "text/plain": [
       "array([[1, 2],\n",
       "       [5, 6]])"
      ]
     },
     "execution_count": 187,
     "metadata": {},
     "output_type": "execute_result"
    }
   ],
   "source": [
    "e[:,0]"
   ]
  },
  {
   "cell_type": "code",
   "execution_count": 189,
   "id": "5ce3670b-e8d7-4942-8f58-a2d26f731934",
   "metadata": {},
   "outputs": [
    {
     "data": {
      "text/plain": [
       "array([3, 4])"
      ]
     },
     "execution_count": 189,
     "metadata": {},
     "output_type": "execute_result"
    }
   ],
   "source": [
    "e[0,1]"
   ]
  },
  {
   "cell_type": "code",
   "execution_count": 159,
   "id": "441bd556-b76e-4e8a-97e1-9daf4f07b9bf",
   "metadata": {},
   "outputs": [
    {
     "data": {
      "text/plain": [
       "3"
      ]
     },
     "execution_count": 159,
     "metadata": {},
     "output_type": "execute_result"
    }
   ],
   "source": [
    "e.ndim"
   ]
  },
  {
   "cell_type": "code",
   "execution_count": 161,
   "id": "ad915330-1bce-4637-9f97-e9fcc27b2b14",
   "metadata": {},
   "outputs": [
    {
     "data": {
      "text/plain": [
       "(1, 3, 2)"
      ]
     },
     "execution_count": 161,
     "metadata": {},
     "output_type": "execute_result"
    }
   ],
   "source": [
    "e.shape"
   ]
  },
  {
   "cell_type": "code",
   "execution_count": 163,
   "id": "0003f0b9-9ac5-4997-8b39-12b71f760a93",
   "metadata": {},
   "outputs": [
    {
     "data": {
      "text/plain": [
       "array([[3, 4]])"
      ]
     },
     "execution_count": 163,
     "metadata": {},
     "output_type": "execute_result"
    }
   ],
   "source": [
    "e[:,1]"
   ]
  },
  {
   "cell_type": "code",
   "execution_count": 193,
   "id": "1ed91d4e-1199-4861-ab8d-32f9b8a23a30",
   "metadata": {},
   "outputs": [
    {
     "data": {
      "text/plain": [
       "4"
      ]
     },
     "execution_count": 193,
     "metadata": {},
     "output_type": "execute_result"
    }
   ],
   "source": [
    "e[0,1,1]"
   ]
  },
  {
   "cell_type": "code",
   "execution_count": 195,
   "id": "5c687c7d-37cd-4ada-8a78-651c3406e6e7",
   "metadata": {},
   "outputs": [
    {
     "data": {
      "text/plain": [
       "2"
      ]
     },
     "execution_count": 195,
     "metadata": {},
     "output_type": "execute_result"
    }
   ],
   "source": [
    "e[0,0,1]"
   ]
  },
  {
   "cell_type": "code",
   "execution_count": 197,
   "id": "f75c5577-1c75-4936-9223-a22b2996e29f",
   "metadata": {},
   "outputs": [
    {
     "data": {
      "text/plain": [
       "6"
      ]
     },
     "execution_count": 197,
     "metadata": {},
     "output_type": "execute_result"
    }
   ],
   "source": [
    "e[1,0,1]"
   ]
  },
  {
   "cell_type": "code",
   "execution_count": 201,
   "id": "92d0b3e4-b697-4175-bb7d-b959a952c296",
   "metadata": {},
   "outputs": [
    {
     "data": {
      "text/plain": [
       "8"
      ]
     },
     "execution_count": 201,
     "metadata": {},
     "output_type": "execute_result"
    }
   ],
   "source": [
    "e[1,1,1]"
   ]
  },
  {
   "cell_type": "code",
   "execution_count": 209,
   "id": "6487150c-fcb2-4ee3-a1f7-d2daa178bf81",
   "metadata": {},
   "outputs": [
    {
     "data": {
      "text/plain": [
       "array([[0., 0.],\n",
       "       [0., 0.],\n",
       "       [0., 0.]])"
      ]
     },
     "execution_count": 209,
     "metadata": {},
     "output_type": "execute_result"
    }
   ],
   "source": [
    "np.zeros((3,2))"
   ]
  },
  {
   "cell_type": "code",
   "execution_count": 211,
   "id": "6d775b06-efa5-49fe-a1c9-7a00fcd36a04",
   "metadata": {},
   "outputs": [
    {
     "data": {
      "text/plain": [
       "array([[1., 1.],\n",
       "       [1., 1.],\n",
       "       [1., 1.]])"
      ]
     },
     "execution_count": 211,
     "metadata": {},
     "output_type": "execute_result"
    }
   ],
   "source": [
    "np.ones((3,2))"
   ]
  },
  {
   "cell_type": "code",
   "execution_count": 215,
   "id": "4dd2da43-6e38-49fa-b519-59a9b8500ac1",
   "metadata": {},
   "outputs": [
    {
     "data": {
      "text/plain": [
       "array([[1., 0., 0.],\n",
       "       [0., 1., 0.],\n",
       "       [0., 0., 1.]])"
      ]
     },
     "execution_count": 215,
     "metadata": {},
     "output_type": "execute_result"
    }
   ],
   "source": [
    "np.eye(3)"
   ]
  },
  {
   "cell_type": "code",
   "execution_count": 229,
   "id": "666787e6-df56-4670-9ab6-acc9e97b3c79",
   "metadata": {},
   "outputs": [
    {
     "data": {
      "text/plain": [
       "numpy.ndarray"
      ]
     },
     "execution_count": 229,
     "metadata": {},
     "output_type": "execute_result"
    }
   ],
   "source": [
    "type(np.ones((3,4)))"
   ]
  },
  {
   "cell_type": "code",
   "execution_count": 231,
   "id": "b6855dc4-531c-42c2-b70d-cadb71044721",
   "metadata": {},
   "outputs": [
    {
     "data": {
      "text/plain": [
       "numpy.ndarray"
      ]
     },
     "execution_count": 231,
     "metadata": {},
     "output_type": "execute_result"
    }
   ],
   "source": [
    "type(np.ones([3,4]))"
   ]
  },
  {
   "cell_type": "code",
   "execution_count": 233,
   "id": "2ab057f7-7111-4ccb-9088-5dc6c7c7ffe5",
   "metadata": {},
   "outputs": [
    {
     "data": {
      "text/plain": [
       "array([[[1., 1., 1., 1., 1., 1.],\n",
       "        [1., 1., 1., 1., 1., 1.],\n",
       "        [1., 1., 1., 1., 1., 1.],\n",
       "        [1., 1., 1., 1., 1., 1.],\n",
       "        [1., 1., 1., 1., 1., 1.]],\n",
       "\n",
       "       [[1., 1., 1., 1., 1., 1.],\n",
       "        [1., 1., 1., 1., 1., 1.],\n",
       "        [1., 1., 1., 1., 1., 1.],\n",
       "        [1., 1., 1., 1., 1., 1.],\n",
       "        [1., 1., 1., 1., 1., 1.]],\n",
       "\n",
       "       [[1., 1., 1., 1., 1., 1.],\n",
       "        [1., 1., 1., 1., 1., 1.],\n",
       "        [1., 1., 1., 1., 1., 1.],\n",
       "        [1., 1., 1., 1., 1., 1.],\n",
       "        [1., 1., 1., 1., 1., 1.]],\n",
       "\n",
       "       [[1., 1., 1., 1., 1., 1.],\n",
       "        [1., 1., 1., 1., 1., 1.],\n",
       "        [1., 1., 1., 1., 1., 1.],\n",
       "        [1., 1., 1., 1., 1., 1.],\n",
       "        [1., 1., 1., 1., 1., 1.]]])"
      ]
     },
     "execution_count": 233,
     "metadata": {},
     "output_type": "execute_result"
    }
   ],
   "source": [
    "np.ones((4,5,6))"
   ]
  },
  {
   "cell_type": "code",
   "execution_count": 235,
   "id": "1236b383-8cee-400b-b82a-b2dae895cab9",
   "metadata": {},
   "outputs": [
    {
     "data": {
      "text/plain": [
       "array([[100, 100, 100, 100],\n",
       "       [100, 100, 100, 100],\n",
       "       [100, 100, 100, 100],\n",
       "       [100, 100, 100, 100]])"
      ]
     },
     "execution_count": 235,
     "metadata": {},
     "output_type": "execute_result"
    }
   ],
   "source": [
    "np.full((4,4), 100)"
   ]
  },
  {
   "cell_type": "code",
   "execution_count": 237,
   "id": "48360074-a74e-4471-babe-6b0eba26243c",
   "metadata": {},
   "outputs": [
    {
     "data": {
      "text/plain": [
       "array([[[-3, -3],\n",
       "        [-3, -3]],\n",
       "\n",
       "       [[-3, -3],\n",
       "        [-3, -3]]])"
      ]
     },
     "execution_count": 237,
     "metadata": {},
     "output_type": "execute_result"
    }
   ],
   "source": [
    "np.full_like(e,-3)"
   ]
  },
  {
   "cell_type": "code",
   "execution_count": 241,
   "id": "b614b3e7-b004-40dc-827f-a92756508bf2",
   "metadata": {},
   "outputs": [
    {
     "data": {
      "text/plain": [
       "array([[0.91989701, 0.75189554, 0.03221621, 0.34784677],\n",
       "       [0.45648513, 0.05379022, 0.89260274, 0.54023926],\n",
       "       [0.55227649, 0.34703302, 0.76488102, 0.02806401]])"
      ]
     },
     "execution_count": 241,
     "metadata": {},
     "output_type": "execute_result"
    }
   ],
   "source": [
    "np.random.rand(3,4)"
   ]
  },
  {
   "cell_type": "code",
   "execution_count": 245,
   "id": "1651fc6f-8570-4503-866d-0e191d9dab99",
   "metadata": {},
   "outputs": [
    {
     "data": {
      "text/plain": [
       "array([[-1,  1,  0, -3],\n",
       "       [ 1,  0,  1,  0],\n",
       "       [ 2, -3, -3,  0],\n",
       "       [ 1,  0, -1, -1],\n",
       "       [ 0, -1, -2, -1],\n",
       "       [ 2,  2,  1, -2],\n",
       "       [-1,  1,  0, -2],\n",
       "       [ 2, -3,  2,  0],\n",
       "       [-1,  0,  1, -1],\n",
       "       [-3, -3,  0, -3]])"
      ]
     },
     "execution_count": 245,
     "metadata": {},
     "output_type": "execute_result"
    }
   ],
   "source": [
    "np.random.randint(-3,3,size=(10,4))"
   ]
  },
  {
   "cell_type": "code",
   "execution_count": 247,
   "id": "b74b0051-1c0c-4a4e-a5fd-b2b4d74a373a",
   "metadata": {},
   "outputs": [
    {
     "data": {
      "text/plain": [
       "array([[1., 0., 0., 0.],\n",
       "       [0., 1., 0., 0.],\n",
       "       [0., 0., 1., 0.],\n",
       "       [0., 0., 0., 1.]])"
      ]
     },
     "execution_count": 247,
     "metadata": {},
     "output_type": "execute_result"
    }
   ],
   "source": [
    "np.identity(4)"
   ]
  },
  {
   "cell_type": "code",
   "execution_count": 249,
   "id": "da434fc5-85d0-46d3-b914-63c8298c3471",
   "metadata": {},
   "outputs": [
    {
     "data": {
      "text/plain": [
       "array([[1., 0., 0., 0.],\n",
       "       [0., 1., 0., 0.],\n",
       "       [0., 0., 1., 0.],\n",
       "       [0., 0., 0., 1.]])"
      ]
     },
     "execution_count": 249,
     "metadata": {},
     "output_type": "execute_result"
    }
   ],
   "source": [
    "np.eye(4)"
   ]
  },
  {
   "cell_type": "code",
   "execution_count": 261,
   "id": "af4782c9-d7f2-4931-ac8d-ca033f99f7b8",
   "metadata": {},
   "outputs": [],
   "source": [
    "arr = np.array([[1,2,3,4]])"
   ]
  },
  {
   "cell_type": "code",
   "execution_count": 263,
   "id": "94c5b5de-e784-4fa7-a32b-d7e818786b51",
   "metadata": {},
   "outputs": [
    {
     "data": {
      "text/plain": [
       "array([[1, 2, 3, 4]])"
      ]
     },
     "execution_count": 263,
     "metadata": {},
     "output_type": "execute_result"
    }
   ],
   "source": [
    "arr"
   ]
  },
  {
   "cell_type": "code",
   "execution_count": 265,
   "id": "13ce98e2-89c6-406e-835b-5593cacb92ab",
   "metadata": {},
   "outputs": [
    {
     "data": {
      "text/plain": [
       "2"
      ]
     },
     "execution_count": 265,
     "metadata": {},
     "output_type": "execute_result"
    }
   ],
   "source": [
    "arr.ndim"
   ]
  },
  {
   "cell_type": "code",
   "execution_count": 279,
   "id": "525472e3-b712-4eab-b96e-fec660a75f2f",
   "metadata": {},
   "outputs": [],
   "source": [
    "r = np.repeat(arr,3,axis=1)"
   ]
  },
  {
   "cell_type": "code",
   "execution_count": 281,
   "id": "18f9974d-9391-4c90-ac22-b23272a5ea06",
   "metadata": {},
   "outputs": [
    {
     "data": {
      "text/plain": [
       "array([[1, 1, 1, 2, 2, 2, 3, 3, 3, 4, 4, 4]])"
      ]
     },
     "execution_count": 281,
     "metadata": {},
     "output_type": "execute_result"
    }
   ],
   "source": [
    "r"
   ]
  },
  {
   "cell_type": "code",
   "execution_count": 275,
   "id": "d82c5e30-046c-45ac-98e4-af7dc8bc47b2",
   "metadata": {},
   "outputs": [
    {
     "data": {
      "text/plain": [
       "2"
      ]
     },
     "execution_count": 275,
     "metadata": {},
     "output_type": "execute_result"
    }
   ],
   "source": [
    "r.ndim"
   ]
  },
  {
   "cell_type": "code",
   "execution_count": 277,
   "id": "3079da3e-42ed-476b-a69b-569bf6ff1f3f",
   "metadata": {},
   "outputs": [
    {
     "data": {
      "text/plain": [
       "(3, 4)"
      ]
     },
     "execution_count": 277,
     "metadata": {},
     "output_type": "execute_result"
    }
   ],
   "source": [
    "r.shape"
   ]
  },
  {
   "cell_type": "code",
   "execution_count": null,
   "id": "a9a6f716-06ed-4143-90ec-d3c743b412eb",
   "metadata": {},
   "outputs": [],
   "source": []
  }
 ],
 "metadata": {
  "kernelspec": {
   "display_name": "Python 3 (ipykernel)",
   "language": "python",
   "name": "python3"
  },
  "language_info": {
   "codemirror_mode": {
    "name": "ipython",
    "version": 3
   },
   "file_extension": ".py",
   "mimetype": "text/x-python",
   "name": "python",
   "nbconvert_exporter": "python",
   "pygments_lexer": "ipython3",
   "version": "3.11.7"
  }
 },
 "nbformat": 4,
 "nbformat_minor": 5
}
