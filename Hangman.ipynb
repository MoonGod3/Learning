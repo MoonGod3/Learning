{
 "cells": [
  {
   "cell_type": "code",
   "execution_count": 23,
   "id": "26baae99-ba9b-44aa-ba2b-fc6ce45fb370",
   "metadata": {},
   "outputs": [],
   "source": [
    "import random\n",
    "\n",
    "class HangmanMoto:\n",
    "    def __init__(self):\n",
    "        self.brands = ['Jawa','BMW','Kawasaki','Honda','Hasquarna','Yamaha','BSA','Vincent','Ducati','Royal Enfield','Harley Davidson','Suzuki',\n",
    "           'Triumph','Brough Superior','Zundapp','Moto Guzzi','Motobecane','Indian','Victory', 'Douglas','Suvega']\n",
    "\n",
    "    def check(self, correct_brand, guesses_list, user_guess) :\n",
    "        self.status = ''\n",
    "        self.match = 0\n",
    "        self.correct_brand = correct_brand\n",
    "        self.guesses_list = guesses_list\n",
    "        self.user_guess = user_guess\n",
    "        for letter in self.correct_brand:\n",
    "            if letter in self.guesses_list:\n",
    "                self.status += letter ##concatenate to the status string\n",
    "            else:\n",
    "                self.status += '*'\n",
    "                \n",
    "            if letter == self.user_guess:\n",
    "                self.match += 1\n",
    "        if self.match > 1:\n",
    "            print('You have guessed ', self.match, 'letters correctly so far \"'+ self.user_guess +'\"'+'\\'s' )\n",
    "        elif self.match == 1:\n",
    "                print('You have guessed one letter correctly so far ', self.user_guess)\n",
    "        else:\n",
    "                print(\"Entered input does not exist in the Moto Brand\")\n",
    "        return self.status\n",
    "\n",
    "    #####################\n",
    "    \n",
    "    def new_game(self):\n",
    "        self.correct_brand = random.choice(self.brands).upper()\n",
    "        self.brand_letters = []\n",
    "        for i in self.correct_brand:\n",
    "            self.brand_letters.append(i)\n",
    "        #initializing the game\n",
    "        self.num_of_guesses = 0\n",
    "        self.guesses_list = [] #contains the guessed list of Moto makers\n",
    "        self.max_guesses = 10\n",
    "        self.guessed = False #checking if the guess was correct\n",
    "        \"\"\"create a string with as many stars \n",
    "                                as there are in the name of the Moto maker's name.\n",
    "                                So, we can print out THE WORD IS *****, FOR INSTANCE\"\"\"\n",
    "        self.test = '*' * len(self.brand_letters) \n",
    "        print(\"Welcome to the game of Moto Hangman! The Moto brand is :\", self.test, \"and it has :\", len(self.brand_letters), \" words. Let's ride.\")\n",
    "        print(\"The correct brand is:\", self.correct_brand)\n",
    "\n",
    "        while (self.guessed != True and self.max_guesses > 0):\n",
    "            print(\"You have \", self.max_guesses, \" more attempts to find the right Moto brand.\")\n",
    "            self.user_guess = input(\"Please input your letter or word.\")\n",
    "            self.user_guess = self.user_guess.upper()\n",
    "            if ((len(self.user_guess) == 1) or (len(self.user_guess) == len(self.brand_letters))): #check in cndn#2, if the len of guess == len of the correct word\n",
    "                self.num_of_guesses += 1\n",
    "                self.max_guesses -= 1\n",
    "                if self.user_guess in self.guesses_list:\n",
    "                    print(\"You already guessed this and you were told it was incorrect:\", self.user_guess) ## why do this? Proven to be wrong already, don't guess it again!\n",
    "                elif len(self.user_guess) == len(self.correct_brand):\n",
    "                    self.guesses_list.append(self.user_guess)\n",
    "                    if self.user_guess == self.correct_brand :\n",
    "                        self.guessed = True\n",
    "                    else: \n",
    "                        print(\"Sorry, that's not correct\")\n",
    "                    \n",
    "                ##for the case when the user enters a single letter\n",
    "                elif self.user_guess == 1:\n",
    "                    self.guesses_list.append(self.user_guess)\n",
    "                    self.result = self.check(self.correct_brand, self.guesses_list, self.user_guess)\n",
    "                    if '*' not in self.result: ###If all letters are found, there will be no star in self.result!\n",
    "                        self.guessed = True\n",
    "                    else:\n",
    "                        print(self.result) #printed result is self.status\n",
    "            else:\n",
    "                self.num_of_guesses += 1\n",
    "                self.max_guesses -= 1\n",
    "                print('You should only enter one letter or a word of length', len(self.brand_letters), '. Please try again.')\n",
    "        if self.guessed:\n",
    "            print('Congratulations, you have found the right brand:', self.correct_brand, 'in', self.num_of_guesses, 'attempts!')\n",
    "        else:\n",
    "            print('Sorry, you have exhausted the maximum number of attempts permitted. The correct brand is :', self.correct_brand)\n"
   ]
  },
  {
   "cell_type": "code",
   "execution_count": 25,
   "id": "501b1f80-7c0e-4e5e-b3b1-555299757968",
   "metadata": {},
   "outputs": [],
   "source": [
    "rider1 = HangmanMoto() #None of the methods require a parameter/arg"
   ]
  },
  {
   "cell_type": "code",
   "execution_count": 27,
   "id": "fca5ddc7-dd04-4b34-99f1-ec2a25350098",
   "metadata": {},
   "outputs": [
    {
     "name": "stdout",
     "output_type": "stream",
     "text": [
      "Welcome to the game of Moto Hangman! The Moto brand is : ***** and it has : 5  words. Let's ride.\n",
      "The correct brand is: HONDA\n",
      "You have  10  more attempts to find the right Moto brand.\n"
     ]
    },
    {
     "name": "stdin",
     "output_type": "stream",
     "text": [
      "Please input your letter or word. h\n"
     ]
    },
    {
     "name": "stdout",
     "output_type": "stream",
     "text": [
      "You have  9  more attempts to find the right Moto brand.\n"
     ]
    },
    {
     "name": "stdin",
     "output_type": "stream",
     "text": [
      "Please input your letter or word. o\n"
     ]
    },
    {
     "name": "stdout",
     "output_type": "stream",
     "text": [
      "You have  8  more attempts to find the right Moto brand.\n"
     ]
    },
    {
     "name": "stdin",
     "output_type": "stream",
     "text": [
      "Please input your letter or word. n\n"
     ]
    },
    {
     "name": "stdout",
     "output_type": "stream",
     "text": [
      "You have  7  more attempts to find the right Moto brand.\n"
     ]
    },
    {
     "name": "stdin",
     "output_type": "stream",
     "text": [
      "Please input your letter or word. d\n"
     ]
    },
    {
     "name": "stdout",
     "output_type": "stream",
     "text": [
      "You have  6  more attempts to find the right Moto brand.\n"
     ]
    },
    {
     "name": "stdin",
     "output_type": "stream",
     "text": [
      "Please input your letter or word. kk\n"
     ]
    },
    {
     "name": "stdout",
     "output_type": "stream",
     "text": [
      "You should only enter one letter or a word of length 5 . Please try again.\n",
      "You have  5  more attempts to find the right Moto brand.\n"
     ]
    },
    {
     "name": "stdin",
     "output_type": "stream",
     "text": [
      "Please input your letter or word. k\n"
     ]
    },
    {
     "name": "stdout",
     "output_type": "stream",
     "text": [
      "You have  4  more attempts to find the right Moto brand.\n"
     ]
    },
    {
     "name": "stdin",
     "output_type": "stream",
     "text": [
      "Please input your letter or word. k\n"
     ]
    },
    {
     "name": "stdout",
     "output_type": "stream",
     "text": [
      "You have  3  more attempts to find the right Moto brand.\n"
     ]
    },
    {
     "name": "stdin",
     "output_type": "stream",
     "text": [
      "Please input your letter or word. k\n"
     ]
    },
    {
     "name": "stdout",
     "output_type": "stream",
     "text": [
      "You have  2  more attempts to find the right Moto brand.\n"
     ]
    },
    {
     "name": "stdin",
     "output_type": "stream",
     "text": [
      "Please input your letter or word. k\n"
     ]
    },
    {
     "name": "stdout",
     "output_type": "stream",
     "text": [
      "You have  1  more attempts to find the right Moto brand.\n"
     ]
    },
    {
     "name": "stdin",
     "output_type": "stream",
     "text": [
      "Please input your letter or word. a\n"
     ]
    },
    {
     "name": "stdout",
     "output_type": "stream",
     "text": [
      "Sorry, you have exhausted the maximum number of attempts permitted. The correct brand is : HONDA\n"
     ]
    }
   ],
   "source": [
    "rider1.new_game()"
   ]
  },
  {
   "cell_type": "code",
   "execution_count": null,
   "id": "37872178-475b-4e62-8602-37873efc135c",
   "metadata": {},
   "outputs": [],
   "source": []
  },
  {
   "cell_type": "markdown",
   "id": "5c8a4ed1-c6bc-426a-91bf-00347e46f56b",
   "metadata": {},
   "source": [
    "## PRACTICE, CODE SNIPPETS BELOW"
   ]
  },
  {
   "cell_type": "code",
   "execution_count": 86,
   "id": "0b6c0fc5-614e-4e8a-b932-a2b9a37e8798",
   "metadata": {},
   "outputs": [
    {
     "name": "stdout",
     "output_type": "stream",
     "text": [
      "*aa*****Da**d***\n"
     ]
    }
   ],
   "source": [
    "status = ''\n",
    "correct_brand = 'Haarley Davidson' ##intentionally misspelled\n",
    "guesses_list = ['a','D','d','f']\n",
    "## The output should be : *aa*****Da**d***\n",
    "\n",
    "##if you use the following, you will get ****************\n",
    "#guesses_list = ['z']\n",
    "\n",
    "\n",
    "    "
   ]
  },
  {
   "cell_type": "code",
   "execution_count": null,
   "id": "b7e6aedf-8602-4633-b1b6-234cbc9cab08",
   "metadata": {},
   "outputs": [],
   "source": []
  }
 ],
 "metadata": {
  "kernelspec": {
   "display_name": "Python 3 (ipykernel)",
   "language": "python",
   "name": "python3"
  },
  "language_info": {
   "codemirror_mode": {
    "name": "ipython",
    "version": 3
   },
   "file_extension": ".py",
   "mimetype": "text/x-python",
   "name": "python",
   "nbconvert_exporter": "python",
   "pygments_lexer": "ipython3",
   "version": "3.11.7"
  }
 },
 "nbformat": 4,
 "nbformat_minor": 5
}
