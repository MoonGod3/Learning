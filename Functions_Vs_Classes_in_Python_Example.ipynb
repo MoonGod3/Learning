{
  "nbformat": 4,
  "nbformat_minor": 0,
  "metadata": {
    "colab": {
      "provenance": []
    },
    "kernelspec": {
      "name": "python3",
      "display_name": "Python 3"
    },
    "language_info": {
      "name": "python"
    }
  },
  "cells": [
    {
      "cell_type": "markdown",
      "source": [
        "#  Function\n",
        "\n",
        "- Syntax:\n",
        "\n",
        "```python\n",
        "def welcome(args):\n",
        "  statement(s)\n",
        "  return expression\n",
        "```"
      ],
      "metadata": {
        "id": "6tv419YNGssO"
      }
    },
    {
      "cell_type": "code",
      "execution_count": null,
      "metadata": {
        "id": "rIIU6jdaGiJ-"
      },
      "outputs": [],
      "source": [
        "def greetings():\n",
        "  print(\"Good morning\")"
      ]
    },
    {
      "cell_type": "code",
      "source": [
        "greetings() # call the function, function_name(args)"
      ],
      "metadata": {
        "colab": {
          "base_uri": "https://localhost:8080/"
        },
        "id": "kbTbXd0sGoET",
        "outputId": "92185b29-bf05-4552-e7f2-b23fe1a5caaf"
      },
      "execution_count": null,
      "outputs": [
        {
          "output_type": "stream",
          "name": "stdout",
          "text": [
            "Good morning\n"
          ]
        }
      ]
    },
    {
      "cell_type": "code",
      "source": [
        "def greetings(name):\n",
        "  print(\"Good morning\",name)"
      ],
      "metadata": {
        "id": "8HJL__ZSGoAK"
      },
      "execution_count": null,
      "outputs": []
    },
    {
      "cell_type": "code",
      "source": [
        "greetings(\"Ravi\")"
      ],
      "metadata": {
        "colab": {
          "base_uri": "https://localhost:8080/"
        },
        "id": "D1elGIxYGn2v",
        "outputId": "db0c29ee-f501-440a-b191-119bb62d5133"
      },
      "execution_count": null,
      "outputs": [
        {
          "output_type": "stream",
          "name": "stdout",
          "text": [
            "Good morning Ravi\n"
          ]
        }
      ]
    },
    {
      "cell_type": "code",
      "source": [
        "greetings()"
      ],
      "metadata": {
        "colab": {
          "base_uri": "https://localhost:8080/",
          "height": 145
        },
        "id": "MyU5hu6eGnzW",
        "outputId": "9d7797db-552d-41fc-8883-351db9a9bbb1"
      },
      "execution_count": null,
      "outputs": [
        {
          "output_type": "error",
          "ename": "TypeError",
          "evalue": "greetings() missing 1 required positional argument: 'name'",
          "traceback": [
            "\u001b[0;31m---------------------------------------------------------------------------\u001b[0m",
            "\u001b[0;31mTypeError\u001b[0m                                 Traceback (most recent call last)",
            "\u001b[0;32m<ipython-input-5-44917e4e6755>\u001b[0m in \u001b[0;36m<cell line: 1>\u001b[0;34m()\u001b[0m\n\u001b[0;32m----> 1\u001b[0;31m \u001b[0mgreetings\u001b[0m\u001b[0;34m(\u001b[0m\u001b[0;34m)\u001b[0m\u001b[0;34m\u001b[0m\u001b[0;34m\u001b[0m\u001b[0m\n\u001b[0m",
            "\u001b[0;31mTypeError\u001b[0m: greetings() missing 1 required positional argument: 'name'"
          ]
        }
      ]
    },
    {
      "cell_type": "code",
      "source": [
        "# Optinal\n",
        "def greetings(name=\"Umesh\"):\n",
        "  print(\"Good morning\",name)"
      ],
      "metadata": {
        "id": "XYKE5dXWGnv-"
      },
      "execution_count": null,
      "outputs": []
    },
    {
      "cell_type": "code",
      "source": [
        "greetings()"
      ],
      "metadata": {
        "colab": {
          "base_uri": "https://localhost:8080/"
        },
        "id": "Pfr2CFR1Gns4",
        "outputId": "eac76d26-e812-401d-b01c-9af0e5a882d0"
      },
      "execution_count": null,
      "outputs": [
        {
          "output_type": "stream",
          "name": "stdout",
          "text": [
            "Good morning Umesh\n"
          ]
        }
      ]
    },
    {
      "cell_type": "code",
      "source": [
        "greetings(\"Ramesh\")"
      ],
      "metadata": {
        "colab": {
          "base_uri": "https://localhost:8080/"
        },
        "id": "w8OsfLADGnpv",
        "outputId": "4a868a74-94a8-4a8b-a887-d73467b796fe"
      },
      "execution_count": null,
      "outputs": [
        {
          "output_type": "stream",
          "name": "stdout",
          "text": [
            "Good morning Ramesh\n"
          ]
        }
      ]
    },
    {
      "cell_type": "code",
      "source": [
        "def greetings(name):\n",
        "  print(\"Good morning\",name)"
      ],
      "metadata": {
        "id": "OjE6k6wTGnmo"
      },
      "execution_count": null,
      "outputs": []
    },
    {
      "cell_type": "code",
      "source": [
        "greetings(\"Ramesh\",\"Suresh\")"
      ],
      "metadata": {
        "colab": {
          "base_uri": "https://localhost:8080/",
          "height": 145
        },
        "id": "IMTU3uE2H9b6",
        "outputId": "895b7d5c-46c5-45cf-96c4-4ddea11f21c2"
      },
      "execution_count": null,
      "outputs": [
        {
          "output_type": "error",
          "ename": "TypeError",
          "evalue": "greetings() takes 1 positional argument but 2 were given",
          "traceback": [
            "\u001b[0;31m---------------------------------------------------------------------------\u001b[0m",
            "\u001b[0;31mTypeError\u001b[0m                                 Traceback (most recent call last)",
            "\u001b[0;32m<ipython-input-10-164084651e61>\u001b[0m in \u001b[0;36m<cell line: 1>\u001b[0;34m()\u001b[0m\n\u001b[0;32m----> 1\u001b[0;31m \u001b[0mgreetings\u001b[0m\u001b[0;34m(\u001b[0m\u001b[0;34m\"Ramesh\"\u001b[0m\u001b[0;34m,\u001b[0m\u001b[0;34m\"Suresh\"\u001b[0m\u001b[0;34m)\u001b[0m\u001b[0;34m\u001b[0m\u001b[0;34m\u001b[0m\u001b[0m\n\u001b[0m",
            "\u001b[0;31mTypeError\u001b[0m: greetings() takes 1 positional argument but 2 were given"
          ]
        }
      ]
    },
    {
      "cell_type": "code",
      "source": [
        "# Receive the multiple inputs\n",
        "def greetings(*names):\n",
        "  print(type(names))\n",
        "  print(\"Good morning\",names)"
      ],
      "metadata": {
        "id": "A3sFPai-IB3N"
      },
      "execution_count": null,
      "outputs": []
    },
    {
      "cell_type": "code",
      "source": [
        "greetings(\"Ramesh\",\"Suresh\")"
      ],
      "metadata": {
        "colab": {
          "base_uri": "https://localhost:8080/"
        },
        "id": "pHDsd3WUITP_",
        "outputId": "e414c97e-7d10-44c0-bdba-7dff3ecd6dc7"
      },
      "execution_count": null,
      "outputs": [
        {
          "output_type": "stream",
          "name": "stdout",
          "text": [
            "<class 'tuple'>\n",
            "Good morning ('Ramesh', 'Suresh')\n"
          ]
        }
      ]
    },
    {
      "cell_type": "code",
      "source": [
        "greetings(\"Ramesh\",\"Suresh\",\"Ravi\") # I can send multiple positional arguments"
      ],
      "metadata": {
        "colab": {
          "base_uri": "https://localhost:8080/"
        },
        "id": "DNDEc9hXIUSY",
        "outputId": "a7c26b73-ce5b-4e17-e2c3-0957116ac635"
      },
      "execution_count": null,
      "outputs": [
        {
          "output_type": "stream",
          "name": "stdout",
          "text": [
            "<class 'tuple'>\n",
            "Good morning ('Ramesh', 'Suresh', 'Ravi')\n"
          ]
        }
      ]
    },
    {
      "cell_type": "code",
      "source": [
        "# Keyworded argument\n",
        "def greetings(name):\n",
        "  print(\"Good morning\",name)"
      ],
      "metadata": {
        "id": "OU9e_5sgIdHu"
      },
      "execution_count": null,
      "outputs": []
    },
    {
      "cell_type": "code",
      "source": [
        "greetings(name=\"Ravi\") # keyworded argument"
      ],
      "metadata": {
        "colab": {
          "base_uri": "https://localhost:8080/"
        },
        "id": "_4wosPYmIqlH",
        "outputId": "251ec7d8-cc92-445f-f291-9d8321f874c0"
      },
      "execution_count": null,
      "outputs": [
        {
          "output_type": "stream",
          "name": "stdout",
          "text": [
            "Good morning Ravi\n"
          ]
        }
      ]
    },
    {
      "cell_type": "code",
      "source": [
        "# Multiple keyworded arguments\n",
        "def greetings(**mobile):\n",
        "  print(type(mobile))\n",
        "  print(\"Good morning\",mobile)"
      ],
      "metadata": {
        "id": "rX3lIZw8IwMy"
      },
      "execution_count": null,
      "outputs": []
    },
    {
      "cell_type": "code",
      "source": [
        "# test\n",
        "greetings(name=\"Ravi\",age=23, city=\"Pune\") # processed as python dict"
      ],
      "metadata": {
        "colab": {
          "base_uri": "https://localhost:8080/"
        },
        "id": "u1QBg0STI61R",
        "outputId": "cf5e2bf7-1123-4f50-938d-beca133d81ab"
      },
      "execution_count": null,
      "outputs": [
        {
          "output_type": "stream",
          "name": "stdout",
          "text": [
            "<class 'dict'>\n",
            "Good morning {'name': 'Ravi', 'age': 23, 'city': 'Pune'}\n"
          ]
        }
      ]
    },
    {
      "cell_type": "code",
      "source": [
        "def greetings(name):\n",
        "  print(\"Good morning\",name)"
      ],
      "metadata": {
        "id": "zlEO-nOsJGmD"
      },
      "execution_count": null,
      "outputs": []
    },
    {
      "cell_type": "code",
      "source": [
        "greetings([[1,2],[2,4]])"
      ],
      "metadata": {
        "colab": {
          "base_uri": "https://localhost:8080/"
        },
        "id": "JqEIdIsNJ6yr",
        "outputId": "21ddb9ca-3126-4ba1-f24a-80cdc0628d55"
      },
      "execution_count": null,
      "outputs": [
        {
          "output_type": "stream",
          "name": "stdout",
          "text": [
            "Good morning [[1, 2], [2, 4]]\n"
          ]
        }
      ]
    },
    {
      "cell_type": "markdown",
      "source": [
        "# Class in Python"
      ],
      "metadata": {
        "id": "TSVDmR-2KGoE"
      }
    },
    {
      "cell_type": "code",
      "source": [
        "# Blueprint for the object\n",
        "# Create a Plan/Blueprint\n",
        "\n",
        "# Class & Object"
      ],
      "metadata": {
        "id": "4gznu4llJ9NA"
      },
      "execution_count": null,
      "outputs": []
    },
    {
      "cell_type": "markdown",
      "source": [
        "Syntax:\n",
        "\n",
        "```python\n",
        "class demo_class():\n",
        "  x = 19\n",
        "  y = 25  # Attributes\n",
        "  def __init__(self): # Methods\n",
        "    pass\n",
        "  \n",
        "  def add(self, x,y):\n",
        "    return x+y\n",
        "```"
      ],
      "metadata": {
        "id": "_E6RypxwKldd"
      }
    },
    {
      "cell_type": "code",
      "source": [
        "# Example class\n",
        "\n",
        "class demo_class():\n",
        "  x = 19\n",
        "  y = 25  # Attributes\n",
        "  def __init__(self): # Methods\n",
        "    pass\n",
        "\n",
        "  def add(self, x,y):\n",
        "    return x+y"
      ],
      "metadata": {
        "id": "qx0Pc2eZK-rS"
      },
      "execution_count": null,
      "outputs": []
    },
    {
      "cell_type": "code",
      "source": [
        "obj1 = demo_class() # create an object"
      ],
      "metadata": {
        "id": "_pfmVhIYLUvr"
      },
      "execution_count": null,
      "outputs": []
    },
    {
      "cell_type": "code",
      "source": [
        "obj1.add(5,10)"
      ],
      "metadata": {
        "colab": {
          "base_uri": "https://localhost:8080/"
        },
        "id": "jysqGVz1LZgY",
        "outputId": "94f40446-1253-46db-a351-5953f062978e"
      },
      "execution_count": null,
      "outputs": [
        {
          "output_type": "execute_result",
          "data": {
            "text/plain": [
              "15"
            ]
          },
          "metadata": {},
          "execution_count": 28
        }
      ]
    },
    {
      "cell_type": "code",
      "source": [
        "obj1.x"
      ],
      "metadata": {
        "colab": {
          "base_uri": "https://localhost:8080/"
        },
        "id": "3qWSuwDuL5eF",
        "outputId": "94c92418-8e23-45c9-afaf-abb4e02ed15e"
      },
      "execution_count": null,
      "outputs": [
        {
          "output_type": "execute_result",
          "data": {
            "text/plain": [
              "19"
            ]
          },
          "metadata": {},
          "execution_count": 30
        }
      ]
    },
    {
      "cell_type": "code",
      "source": [
        "obj1.y"
      ],
      "metadata": {
        "colab": {
          "base_uri": "https://localhost:8080/"
        },
        "id": "_NVPBXhPL-TI",
        "outputId": "597e3e04-b708-4bfa-c717-5d65e5603f50"
      },
      "execution_count": null,
      "outputs": [
        {
          "output_type": "execute_result",
          "data": {
            "text/plain": [
              "25"
            ]
          },
          "metadata": {},
          "execution_count": 31
        }
      ]
    },
    {
      "cell_type": "code",
      "source": [
        "# class calculator\n",
        "\n",
        "class calculator:\n",
        "\n",
        "  def add(self, x,y):\n",
        "    return x+y\n",
        "\n",
        "  def sub(self, x,y):\n",
        "    return x-y"
      ],
      "metadata": {
        "id": "bq8wn6GvLkpD"
      },
      "execution_count": null,
      "outputs": []
    },
    {
      "cell_type": "code",
      "source": [
        "# class calculator\n",
        "\n",
        "class calculator:\n",
        "  def __init__(self, x,y):\n",
        "    self.x = x\n",
        "    self.y = y\n",
        "\n",
        "  def add(self):\n",
        "    return self.x + self.y\n",
        "\n",
        "  def sub(self):\n",
        "    return self.x-self.y"
      ],
      "metadata": {
        "id": "M0kVYvkHL2zA"
      },
      "execution_count": null,
      "outputs": []
    },
    {
      "cell_type": "code",
      "source": [
        "c1 = calculator(10,15)"
      ],
      "metadata": {
        "id": "e13HHeE5MjF0"
      },
      "execution_count": null,
      "outputs": []
    },
    {
      "cell_type": "code",
      "source": [
        "c1.x, c1.y"
      ],
      "metadata": {
        "colab": {
          "base_uri": "https://localhost:8080/"
        },
        "id": "jzoxiDTPMjC-",
        "outputId": "482d86da-7859-4408-da3b-079d8b9e36e6"
      },
      "execution_count": null,
      "outputs": [
        {
          "output_type": "execute_result",
          "data": {
            "text/plain": [
              "(10, 15)"
            ]
          },
          "metadata": {},
          "execution_count": 35
        }
      ]
    },
    {
      "cell_type": "code",
      "source": [
        "c1.add()"
      ],
      "metadata": {
        "colab": {
          "base_uri": "https://localhost:8080/"
        },
        "id": "vvm6M5eAMi_1",
        "outputId": "7cc388d6-4178-4611-b3a7-0f41b16c9ee8"
      },
      "execution_count": null,
      "outputs": [
        {
          "output_type": "execute_result",
          "data": {
            "text/plain": [
              "25"
            ]
          },
          "metadata": {},
          "execution_count": 36
        }
      ]
    },
    {
      "cell_type": "code",
      "source": [
        "c1.sub()"
      ],
      "metadata": {
        "id": "RTy2gPkAMr8F",
        "outputId": "96661fce-fd25-46ba-dbe2-fca93a11e5cd",
        "colab": {
          "base_uri": "https://localhost:8080/"
        }
      },
      "execution_count": null,
      "outputs": [
        {
          "output_type": "execute_result",
          "data": {
            "text/plain": [
              "-5"
            ]
          },
          "metadata": {},
          "execution_count": 37
        }
      ]
    },
    {
      "cell_type": "code",
      "source": [],
      "metadata": {
        "id": "zw_sA20NMtQ0"
      },
      "execution_count": null,
      "outputs": []
    }
  ]
}